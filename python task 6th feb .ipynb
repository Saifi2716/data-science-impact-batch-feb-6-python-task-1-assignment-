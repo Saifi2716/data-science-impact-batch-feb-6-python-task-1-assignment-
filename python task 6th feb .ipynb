{
 "cells": [
  {
   "cell_type": "code",
   "execution_count": 1,
   "id": "58af2521-6d7e-4ff1-a75a-93e279a929a4",
   "metadata": {},
   "outputs": [
    {
     "name": "stdout",
     "output_type": "stream",
     "text": [
      "The product of all numbers: 362880\n"
     ]
    }
   ],
   "source": [
    "\"\"\"Q1. Create a function which will take a list as an argument and return the product of all the numbers\n",
    "after creating a flat list.\n",
    "Use the below-given list as an argument for your function.\"\"\"\n",
    "from functools import reduce\n",
    "\n",
    "def flatten_and_multiply(lst):\n",
    "    \"\"\"\n",
    "    Flattens a nested list and returns the product of all numbers.\n",
    "    \n",
    "    Args:\n",
    "        lst (list): A nested list containing integers or other lists.\n",
    "        \n",
    "    Returns:\n",
    "        int: The product of all numbers in the flattened list.\n",
    "    \"\"\"\n",
    "    def flatten(lst):\n",
    "        \"\"\"Recursively flattens a nested list.\"\"\"\n",
    "        flat_list = []\n",
    "        for item in lst:\n",
    "            if isinstance(item, list):\n",
    "                flat_list.extend(flatten(item))\n",
    "            else:\n",
    "                flat_list.append(item)\n",
    "        return flat_list\n",
    "    \n",
    "    # Flatten the list\n",
    "    flat_list = flatten(lst)\n",
    "    \n",
    "    # Compute the product\n",
    "    product = reduce(lambda x, y: x * y, flat_list)\n",
    "    return product\n",
    "\n",
    "# Example usage\n",
    "nested_list = [1, 2, [3, 4], [5, [6, 7]], 8, 9]\n",
    "result = flatten_and_multiply(nested_list)\n",
    "print(\"The product of all numbers:\", result)\n"
   ]
  },
  {
   "cell_type": "code",
   "execution_count": null,
   "id": "5c69231b-6dcb-4411-8176-85778376787d",
   "metadata": {},
   "outputs": [],
   "source": [
    "\"\"\"Q2. Write a python program for encrypting a message sent to you by your friend. The logic of encryption\n",
    "should be such that, for a the output should be z. For b, the output should be y. For c, the output should\n",
    "be x respectively. Also, the whitespace should be replaced with a dollar sign. Keep the punctuation\n",
    "marks unchanged.\"\"\""
   ]
  }
 ],
 "metadata": {
  "kernelspec": {
   "display_name": "Python 3 (ipykernel)",
   "language": "python",
   "name": "python3"
  },
  "language_info": {
   "codemirror_mode": {
    "name": "ipython",
    "version": 3
   },
   "file_extension": ".py",
   "mimetype": "text/x-python",
   "name": "python",
   "nbconvert_exporter": "python",
   "pygments_lexer": "ipython3",
   "version": "3.12.4"
  }
 },
 "nbformat": 4,
 "nbformat_minor": 5
}
